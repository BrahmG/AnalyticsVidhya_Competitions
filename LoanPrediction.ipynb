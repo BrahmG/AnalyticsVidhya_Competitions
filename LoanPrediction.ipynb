{
  "nbformat": 4,
  "nbformat_minor": 0,
  "metadata": {
    "colab": {
      "name": "LoanPrediction.ipynb",
      "provenance": [],
      "collapsed_sections": []
    },
    "kernelspec": {
      "name": "python3",
      "display_name": "Python 3"
    },
    "accelerator": "GPU"
  },
  "cells": [
    {
      "cell_type": "markdown",
      "metadata": {
        "id": "IF4sudzlqwas"
      },
      "source": [
        "##Predict Loan Eligibility for Dream Housing Finance company\n",
        "Dream Housing Finance company deals in all kinds of home loans. They have presence across all urban, semi urban and rural areas. Customer first applies for home loan and after that company validates the customer eligibility for loan.\n",
        "\n",
        "Company wants to automate the loan eligibility process (real time) based on customer detail provided while filling online application form. These details are Gender, Marital Status, Education, Number of Dependents, Income, Loan Amount, Credit History and others. To automate this process, they have provided a dataset to identify the customers segments that are eligible for loan amount so that they can specifically target these customers. "
      ]
    },
    {
      "cell_type": "code",
      "metadata": {
        "id": "9LlsVXnfnuVp"
      },
      "source": [
        "import pandas as pd\n",
        "import numpy as np\n",
        "import os,re,datetime\n",
        "import matplotlib\n",
        "import matplotlib.pyplot as plt\n",
        "import seaborn as sns\n",
        "import time\n",
        "%matplotlib inline"
      ],
      "execution_count": null,
      "outputs": []
    },
    {
      "cell_type": "code",
      "metadata": {
        "id": "SobhjBH0ollg"
      },
      "source": [
        "train=pd.read_csv('train.csv')"
      ],
      "execution_count": null,
      "outputs": []
    },
    {
      "cell_type": "code",
      "metadata": {
        "id": "q91TWvtboy2h",
        "colab": {
          "base_uri": "https://localhost:8080/",
          "height": 204
        },
        "outputId": "428530f0-f1a6-4dec-f018-bf12684452d9"
      },
      "source": [
        "train.head()"
      ],
      "execution_count": null,
      "outputs": [
        {
          "output_type": "execute_result",
          "data": {
            "text/html": [
              "<div>\n",
              "<style scoped>\n",
              "    .dataframe tbody tr th:only-of-type {\n",
              "        vertical-align: middle;\n",
              "    }\n",
              "\n",
              "    .dataframe tbody tr th {\n",
              "        vertical-align: top;\n",
              "    }\n",
              "\n",
              "    .dataframe thead th {\n",
              "        text-align: right;\n",
              "    }\n",
              "</style>\n",
              "<table border=\"1\" class=\"dataframe\">\n",
              "  <thead>\n",
              "    <tr style=\"text-align: right;\">\n",
              "      <th></th>\n",
              "      <th>Loan_ID</th>\n",
              "      <th>Gender</th>\n",
              "      <th>Married</th>\n",
              "      <th>Dependents</th>\n",
              "      <th>Education</th>\n",
              "      <th>Self_Employed</th>\n",
              "      <th>ApplicantIncome</th>\n",
              "      <th>CoapplicantIncome</th>\n",
              "      <th>LoanAmount</th>\n",
              "      <th>Loan_Amount_Term</th>\n",
              "      <th>Credit_History</th>\n",
              "      <th>Property_Area</th>\n",
              "      <th>Loan_Status</th>\n",
              "    </tr>\n",
              "  </thead>\n",
              "  <tbody>\n",
              "    <tr>\n",
              "      <th>0</th>\n",
              "      <td>LP001002</td>\n",
              "      <td>Male</td>\n",
              "      <td>No</td>\n",
              "      <td>0</td>\n",
              "      <td>Graduate</td>\n",
              "      <td>No</td>\n",
              "      <td>5849</td>\n",
              "      <td>0.0</td>\n",
              "      <td>NaN</td>\n",
              "      <td>360.0</td>\n",
              "      <td>1.0</td>\n",
              "      <td>Urban</td>\n",
              "      <td>Y</td>\n",
              "    </tr>\n",
              "    <tr>\n",
              "      <th>1</th>\n",
              "      <td>LP001003</td>\n",
              "      <td>Male</td>\n",
              "      <td>Yes</td>\n",
              "      <td>1</td>\n",
              "      <td>Graduate</td>\n",
              "      <td>No</td>\n",
              "      <td>4583</td>\n",
              "      <td>1508.0</td>\n",
              "      <td>128.0</td>\n",
              "      <td>360.0</td>\n",
              "      <td>1.0</td>\n",
              "      <td>Rural</td>\n",
              "      <td>N</td>\n",
              "    </tr>\n",
              "    <tr>\n",
              "      <th>2</th>\n",
              "      <td>LP001005</td>\n",
              "      <td>Male</td>\n",
              "      <td>Yes</td>\n",
              "      <td>0</td>\n",
              "      <td>Graduate</td>\n",
              "      <td>Yes</td>\n",
              "      <td>3000</td>\n",
              "      <td>0.0</td>\n",
              "      <td>66.0</td>\n",
              "      <td>360.0</td>\n",
              "      <td>1.0</td>\n",
              "      <td>Urban</td>\n",
              "      <td>Y</td>\n",
              "    </tr>\n",
              "    <tr>\n",
              "      <th>3</th>\n",
              "      <td>LP001006</td>\n",
              "      <td>Male</td>\n",
              "      <td>Yes</td>\n",
              "      <td>0</td>\n",
              "      <td>Not Graduate</td>\n",
              "      <td>No</td>\n",
              "      <td>2583</td>\n",
              "      <td>2358.0</td>\n",
              "      <td>120.0</td>\n",
              "      <td>360.0</td>\n",
              "      <td>1.0</td>\n",
              "      <td>Urban</td>\n",
              "      <td>Y</td>\n",
              "    </tr>\n",
              "    <tr>\n",
              "      <th>4</th>\n",
              "      <td>LP001008</td>\n",
              "      <td>Male</td>\n",
              "      <td>No</td>\n",
              "      <td>0</td>\n",
              "      <td>Graduate</td>\n",
              "      <td>No</td>\n",
              "      <td>6000</td>\n",
              "      <td>0.0</td>\n",
              "      <td>141.0</td>\n",
              "      <td>360.0</td>\n",
              "      <td>1.0</td>\n",
              "      <td>Urban</td>\n",
              "      <td>Y</td>\n",
              "    </tr>\n",
              "  </tbody>\n",
              "</table>\n",
              "</div>"
            ],
            "text/plain": [
              "    Loan_ID Gender Married  ... Credit_History Property_Area Loan_Status\n",
              "0  LP001002   Male      No  ...            1.0         Urban           Y\n",
              "1  LP001003   Male     Yes  ...            1.0         Rural           N\n",
              "2  LP001005   Male     Yes  ...            1.0         Urban           Y\n",
              "3  LP001006   Male     Yes  ...            1.0         Urban           Y\n",
              "4  LP001008   Male      No  ...            1.0         Urban           Y\n",
              "\n",
              "[5 rows x 13 columns]"
            ]
          },
          "metadata": {
            "tags": []
          },
          "execution_count": 377
        }
      ]
    },
    {
      "cell_type": "code",
      "metadata": {
        "id": "MvjBqPuko0Jf",
        "colab": {
          "base_uri": "https://localhost:8080/",
          "height": 255
        },
        "outputId": "55342f92-95c8-4483-ac6d-c9bb74e9ef0f"
      },
      "source": [
        "(train.isna().sum()/train.shape[0])*100"
      ],
      "execution_count": null,
      "outputs": [
        {
          "output_type": "execute_result",
          "data": {
            "text/plain": [
              "Loan_ID              0.000000\n",
              "Gender               2.117264\n",
              "Married              0.488599\n",
              "Dependents           2.442997\n",
              "Education            0.000000\n",
              "Self_Employed        5.211726\n",
              "ApplicantIncome      0.000000\n",
              "CoapplicantIncome    0.000000\n",
              "LoanAmount           3.583062\n",
              "Loan_Amount_Term     2.280130\n",
              "Credit_History       8.143322\n",
              "Property_Area        0.000000\n",
              "Loan_Status          0.000000\n",
              "dtype: float64"
            ]
          },
          "metadata": {
            "tags": []
          },
          "execution_count": 378
        }
      ]
    },
    {
      "cell_type": "markdown",
      "metadata": {
        "id": "09mqeb0mpEzd"
      },
      "source": [
        "As we can see there are many columns with nan values\n",
        "Credit_History having 8% nan values, Self_Employed with 5.2%\n",
        "by dropping nan we might lose around 15% data. We will try to impute values"
      ]
    },
    {
      "cell_type": "code",
      "metadata": {
        "id": "ZjQyZI1HpaYk",
        "colab": {
          "base_uri": "https://localhost:8080/",
          "height": 34
        },
        "outputId": "f08ac7fa-764e-43e1-ce81-abad00056aaf"
      },
      "source": [
        "#checking duplicates\n",
        "train.duplicated().sum()"
      ],
      "execution_count": null,
      "outputs": [
        {
          "output_type": "execute_result",
          "data": {
            "text/plain": [
              "0"
            ]
          },
          "metadata": {
            "tags": []
          },
          "execution_count": 379
        }
      ]
    },
    {
      "cell_type": "code",
      "metadata": {
        "id": "_TK8wD8Co8U0",
        "colab": {
          "base_uri": "https://localhost:8080/",
          "height": 357
        },
        "outputId": "ef3a1d5a-beca-4894-ca31-37f5cfb32eb0"
      },
      "source": [
        "train.info()"
      ],
      "execution_count": null,
      "outputs": [
        {
          "output_type": "stream",
          "text": [
            "<class 'pandas.core.frame.DataFrame'>\n",
            "RangeIndex: 614 entries, 0 to 613\n",
            "Data columns (total 13 columns):\n",
            " #   Column             Non-Null Count  Dtype  \n",
            "---  ------             --------------  -----  \n",
            " 0   Loan_ID            614 non-null    object \n",
            " 1   Gender             601 non-null    object \n",
            " 2   Married            611 non-null    object \n",
            " 3   Dependents         599 non-null    object \n",
            " 4   Education          614 non-null    object \n",
            " 5   Self_Employed      582 non-null    object \n",
            " 6   ApplicantIncome    614 non-null    int64  \n",
            " 7   CoapplicantIncome  614 non-null    float64\n",
            " 8   LoanAmount         592 non-null    float64\n",
            " 9   Loan_Amount_Term   600 non-null    float64\n",
            " 10  Credit_History     564 non-null    float64\n",
            " 11  Property_Area      614 non-null    object \n",
            " 12  Loan_Status        614 non-null    object \n",
            "dtypes: float64(4), int64(1), object(8)\n",
            "memory usage: 62.5+ KB\n"
          ],
          "name": "stdout"
        }
      ]
    },
    {
      "cell_type": "code",
      "metadata": {
        "id": "TUuNYzaVp2yT",
        "colab": {
          "base_uri": "https://localhost:8080/",
          "height": 34
        },
        "outputId": "59795cec-0a36-4ca7-cb20-70a8371ff30d"
      },
      "source": [
        "train.Gender.unique()"
      ],
      "execution_count": null,
      "outputs": [
        {
          "output_type": "execute_result",
          "data": {
            "text/plain": [
              "array(['Male', 'Female', nan], dtype=object)"
            ]
          },
          "metadata": {
            "tags": []
          },
          "execution_count": 381
        }
      ]
    },
    {
      "cell_type": "code",
      "metadata": {
        "id": "qcVduFU-p9Nh",
        "colab": {
          "base_uri": "https://localhost:8080/",
          "height": 68
        },
        "outputId": "e415bb3c-50de-4c17-c50b-cac1f1050e85"
      },
      "source": [
        "train.Gender.value_counts()"
      ],
      "execution_count": null,
      "outputs": [
        {
          "output_type": "execute_result",
          "data": {
            "text/plain": [
              "Male      489\n",
              "Female    112\n",
              "Name: Gender, dtype: int64"
            ]
          },
          "metadata": {
            "tags": []
          },
          "execution_count": 382
        }
      ]
    },
    {
      "cell_type": "code",
      "metadata": {
        "id": "pZ5ZugvIqF65",
        "colab": {
          "base_uri": "https://localhost:8080/",
          "height": 452
        },
        "outputId": "07a6a56d-b65c-44ad-f77b-0261090142de"
      },
      "source": [
        "train[train.Gender.isnull()][['Gender','Loan_Status']]"
      ],
      "execution_count": null,
      "outputs": [
        {
          "output_type": "execute_result",
          "data": {
            "text/html": [
              "<div>\n",
              "<style scoped>\n",
              "    .dataframe tbody tr th:only-of-type {\n",
              "        vertical-align: middle;\n",
              "    }\n",
              "\n",
              "    .dataframe tbody tr th {\n",
              "        vertical-align: top;\n",
              "    }\n",
              "\n",
              "    .dataframe thead th {\n",
              "        text-align: right;\n",
              "    }\n",
              "</style>\n",
              "<table border=\"1\" class=\"dataframe\">\n",
              "  <thead>\n",
              "    <tr style=\"text-align: right;\">\n",
              "      <th></th>\n",
              "      <th>Gender</th>\n",
              "      <th>Loan_Status</th>\n",
              "    </tr>\n",
              "  </thead>\n",
              "  <tbody>\n",
              "    <tr>\n",
              "      <th>23</th>\n",
              "      <td>NaN</td>\n",
              "      <td>N</td>\n",
              "    </tr>\n",
              "    <tr>\n",
              "      <th>126</th>\n",
              "      <td>NaN</td>\n",
              "      <td>Y</td>\n",
              "    </tr>\n",
              "    <tr>\n",
              "      <th>171</th>\n",
              "      <td>NaN</td>\n",
              "      <td>Y</td>\n",
              "    </tr>\n",
              "    <tr>\n",
              "      <th>188</th>\n",
              "      <td>NaN</td>\n",
              "      <td>Y</td>\n",
              "    </tr>\n",
              "    <tr>\n",
              "      <th>314</th>\n",
              "      <td>NaN</td>\n",
              "      <td>N</td>\n",
              "    </tr>\n",
              "    <tr>\n",
              "      <th>334</th>\n",
              "      <td>NaN</td>\n",
              "      <td>Y</td>\n",
              "    </tr>\n",
              "    <tr>\n",
              "      <th>460</th>\n",
              "      <td>NaN</td>\n",
              "      <td>Y</td>\n",
              "    </tr>\n",
              "    <tr>\n",
              "      <th>467</th>\n",
              "      <td>NaN</td>\n",
              "      <td>Y</td>\n",
              "    </tr>\n",
              "    <tr>\n",
              "      <th>477</th>\n",
              "      <td>NaN</td>\n",
              "      <td>N</td>\n",
              "    </tr>\n",
              "    <tr>\n",
              "      <th>507</th>\n",
              "      <td>NaN</td>\n",
              "      <td>N</td>\n",
              "    </tr>\n",
              "    <tr>\n",
              "      <th>576</th>\n",
              "      <td>NaN</td>\n",
              "      <td>N</td>\n",
              "    </tr>\n",
              "    <tr>\n",
              "      <th>588</th>\n",
              "      <td>NaN</td>\n",
              "      <td>Y</td>\n",
              "    </tr>\n",
              "    <tr>\n",
              "      <th>592</th>\n",
              "      <td>NaN</td>\n",
              "      <td>Y</td>\n",
              "    </tr>\n",
              "  </tbody>\n",
              "</table>\n",
              "</div>"
            ],
            "text/plain": [
              "    Gender Loan_Status\n",
              "23     NaN           N\n",
              "126    NaN           Y\n",
              "171    NaN           Y\n",
              "188    NaN           Y\n",
              "314    NaN           N\n",
              "334    NaN           Y\n",
              "460    NaN           Y\n",
              "467    NaN           Y\n",
              "477    NaN           N\n",
              "507    NaN           N\n",
              "576    NaN           N\n",
              "588    NaN           Y\n",
              "592    NaN           Y"
            ]
          },
          "metadata": {
            "tags": []
          },
          "execution_count": 383
        }
      ]
    },
    {
      "cell_type": "code",
      "metadata": {
        "id": "pb_AZRF7tVh5"
      },
      "source": [
        "#Filling missing values\n",
        "train.Gender.fillna(value=train.Gender.mode()[0],inplace=True)"
      ],
      "execution_count": null,
      "outputs": []
    },
    {
      "cell_type": "code",
      "metadata": {
        "id": "u6Gypwr4uU-U",
        "colab": {
          "base_uri": "https://localhost:8080/",
          "height": 34
        },
        "outputId": "a1ea5492-269d-4a1b-f101-52e5eaa3001c"
      },
      "source": [
        "train.LoanAmount.median(),train.Credit_History.mode()[0]"
      ],
      "execution_count": null,
      "outputs": [
        {
          "output_type": "execute_result",
          "data": {
            "text/plain": [
              "(128.0, 1.0)"
            ]
          },
          "metadata": {
            "tags": []
          },
          "execution_count": 385
        }
      ]
    },
    {
      "cell_type": "code",
      "metadata": {
        "id": "5olSEUeYtqSJ"
      },
      "source": [
        "#Filling missing values\n",
        "train.Married.fillna(value=train.Married.mode()[0],inplace=True)\n",
        "train.Dependents.fillna(value=train.Dependents.mode()[0],inplace=True)\n",
        "train.Self_Employed.fillna(value=train.Self_Employed.mode()[0],inplace=True)\n",
        "train.LoanAmount.fillna(value=train.LoanAmount.median(),inplace=True)\n",
        "train.Loan_Amount_Term.fillna(value=train.Loan_Amount_Term.median(),inplace=True)\n",
        "train.Credit_History.fillna(value=train.Credit_History.mode()[0],inplace=True)"
      ],
      "execution_count": null,
      "outputs": []
    },
    {
      "cell_type": "code",
      "metadata": {
        "id": "_ZgokvUUupWs",
        "colab": {
          "base_uri": "https://localhost:8080/",
          "height": 255
        },
        "outputId": "0a7d8722-0a41-486d-e08b-373f45fdd1b0"
      },
      "source": [
        "train.isna().sum()"
      ],
      "execution_count": null,
      "outputs": [
        {
          "output_type": "execute_result",
          "data": {
            "text/plain": [
              "Loan_ID              0\n",
              "Gender               0\n",
              "Married              0\n",
              "Dependents           0\n",
              "Education            0\n",
              "Self_Employed        0\n",
              "ApplicantIncome      0\n",
              "CoapplicantIncome    0\n",
              "LoanAmount           0\n",
              "Loan_Amount_Term     0\n",
              "Credit_History       0\n",
              "Property_Area        0\n",
              "Loan_Status          0\n",
              "dtype: int64"
            ]
          },
          "metadata": {
            "tags": []
          },
          "execution_count": 387
        }
      ]
    },
    {
      "cell_type": "code",
      "metadata": {
        "id": "P2cSWMPtqXgx",
        "colab": {
          "base_uri": "https://localhost:8080/",
          "height": 358
        },
        "outputId": "2fae4244-67cc-4e78-cbf0-ea60510656b6"
      },
      "source": [
        "plt.figure(figsize=(8,4))\n",
        "colors = ['r','b','b','b','b']\n",
        "ax=train.Gender.value_counts().plot(kind='bar',color=colors)\n",
        "plt.title('Distribution of Gender')\n",
        "plt.ylabel('Count')\n",
        "plt.show()\n",
        "train.Gender.value_counts()"
      ],
      "execution_count": null,
      "outputs": [
        {
          "output_type": "display_data",
          "data": {
            "image/png": "[encoded data removed]",
            "text/plain": [
              "<Figure size 576x288 with 1 Axes>"
            ]
          },
          "metadata": {
            "tags": [],
            "needs_background": "light"
          }
        },
        {
          "output_type": "execute_result",
          "data": {
            "text/plain": [
              "Male      502\n",
              "Female    112\n",
              "Name: Gender, dtype: int64"
            ]
          },
          "metadata": {
            "tags": []
          },
          "execution_count": 388
        }
      ]
    },
    {
      "cell_type": "code",
      "metadata": {
        "id": "lMsVl2LksLqv",
        "colab": {
          "base_uri": "https://localhost:8080/",
          "height": 338
        },
        "outputId": "37572687-0f1b-4a91-96b1-1229de6fef3a"
      },
      "source": [
        "#Married PLOT\n",
        "plt.figure(figsize=(8,4))\n",
        "colors = ['r','b','b','b','b']\n",
        "ax=train.Married.value_counts().plot(kind='bar',color= colors)\n",
        "plt.title('Distribution of Married')\n",
        "plt.ylabel('Count')\n",
        "plt.show()\n",
        "train.Married.value_counts()"
      ],
      "execution_count": null,
      "outputs": [
        {
          "output_type": "display_data",
          "data": {
            "image/png": "[encoded data removed]",
            "text/plain": [
              "<Figure size 576x288 with 1 Axes>"
            ]
          },
          "metadata": {
            "tags": [],
            "needs_background": "light"
          }
        },
        {
          "output_type": "execute_result",
          "data": {
            "text/plain": [
              "Yes    401\n",
              "No     213\n",
              "Name: Married, dtype: int64"
            ]
          },
          "metadata": {
            "tags": []
          },
          "execution_count": 389
        }
      ]
    },
    {
      "cell_type": "code",
      "metadata": {
        "id": "njde4u3fu5dZ",
        "colab": {
          "base_uri": "https://localhost:8080/",
          "height": 371
        },
        "outputId": "09a2790f-efe0-49cd-d24b-44585384669d"
      },
      "source": [
        "#Dependents PLOT\n",
        "plt.figure(figsize=(8,4))\n",
        "colors = ['r','b','g','y','b']\n",
        "ax=train.Dependents.value_counts().plot(kind='bar',color= colors)\n",
        "plt.title('Distribution of Dependents')\n",
        "plt.ylabel('Count')\n",
        "plt.show()\n",
        "train.Dependents.value_counts()"
      ],
      "execution_count": null,
      "outputs": [
        {
          "output_type": "display_data",
          "data": {
            "image/png": "[encoded data removed]",
            "text/plain": [
              "<Figure size 576x288 with 1 Axes>"
            ]
          },
          "metadata": {
            "tags": [],
            "needs_background": "light"
          }
        },
        {
          "output_type": "execute_result",
          "data": {
            "text/plain": [
              "0     360\n",
              "1     102\n",
              "2     101\n",
              "3+     51\n",
              "Name: Dependents, dtype: int64"
            ]
          },
          "metadata": {
            "tags": []
          },
          "execution_count": 390
        }
      ]
    },
    {
      "cell_type": "code",
      "metadata": {
        "id": "1sXO75tav2Kq",
        "colab": {
          "base_uri": "https://localhost:8080/",
          "height": 338
        },
        "outputId": "068ffabb-6147-4885-9725-654e6dce393e"
      },
      "source": [
        "#Self_Employed PLOT\n",
        "plt.figure(figsize=(8,4))\n",
        "colors = ['r','b','b','b','b']\n",
        "ax=train.Self_Employed.value_counts().plot(kind='bar',color= colors)\n",
        "plt.title('Distribution of Self_Employed')\n",
        "plt.ylabel('Count')\n",
        "plt.show()\n",
        "train.Self_Employed.value_counts()"
      ],
      "execution_count": null,
      "outputs": [
        {
          "output_type": "display_data",
          "data": {
            "image/png": "[encoded data removed]",
            "text/plain": [
              "<Figure size 576x288 with 1 Axes>"
            ]
          },
          "metadata": {
            "tags": [],
            "needs_background": "light"
          }
        },
        {
          "output_type": "execute_result",
          "data": {
            "text/plain": [
              "No     532\n",
              "Yes     82\n",
              "Name: Self_Employed, dtype: int64"
            ]
          },
          "metadata": {
            "tags": []
          },
          "execution_count": 391
        }
      ]
    },
    {
      "cell_type": "code",
      "metadata": {
        "id": "bRFD4NKcv_tN",
        "colab": {
          "base_uri": "https://localhost:8080/",
          "height": 338
        },
        "outputId": "c8945f3c-b581-4bc5-bd25-313cd6ccd472"
      },
      "source": [
        "#Credit_History PLOT\n",
        "plt.figure(figsize=(8,4))\n",
        "colors = ['r','b','b','b','b']\n",
        "ax=train.Credit_History.value_counts().plot(kind='bar',color= colors)\n",
        "plt.title('Distribution of Credit_History')\n",
        "plt.ylabel('Count')\n",
        "plt.show()\n",
        "train.Credit_History.value_counts()"
      ],
      "execution_count": null,
      "outputs": [
        {
          "output_type": "display_data",
          "data": {
            "image/png": "[encoded data removed]",
            "text/plain": [
              "<Figure size 576x288 with 1 Axes>"
            ]
          },
          "metadata": {
            "tags": [],
            "needs_background": "light"
          }
        },
        {
          "output_type": "execute_result",
          "data": {
            "text/plain": [
              "1.0    525\n",
              "0.0     89\n",
              "Name: Credit_History, dtype: int64"
            ]
          },
          "metadata": {
            "tags": []
          },
          "execution_count": 392
        }
      ]
    },
    {
      "cell_type": "code",
      "metadata": {
        "id": "cIxDfGN8wRiA",
        "colab": {
          "base_uri": "https://localhost:8080/",
          "height": 393
        },
        "outputId": "f94845b2-61e1-478e-94a5-4aa70211460a"
      },
      "source": [
        "#Property_Area PLOT\n",
        "plt.figure(figsize=(8,4))\n",
        "colors = ['r','b','g','b','b']\n",
        "ax=train.Property_Area.value_counts().plot(kind='bar',color= colors)\n",
        "plt.title('Distribution of Property_Area')\n",
        "plt.ylabel('Count')\n",
        "plt.show()\n",
        "train.Property_Area.value_counts()"
      ],
      "execution_count": null,
      "outputs": [
        {
          "output_type": "display_data",
          "data": {
            "image/png": "[encoded data removed]",
            "text/plain": [
              "<Figure size 576x288 with 1 Axes>"
            ]
          },
          "metadata": {
            "tags": [],
            "needs_background": "light"
          }
        },
        {
          "output_type": "execute_result",
          "data": {
            "text/plain": [
              "Semiurban    233\n",
              "Urban        202\n",
              "Rural        179\n",
              "Name: Property_Area, dtype: int64"
            ]
          },
          "metadata": {
            "tags": []
          },
          "execution_count": 393
        }
      ]
    },
    {
      "cell_type": "code",
      "metadata": {
        "id": "W758eYgdwuHr",
        "colab": {
          "base_uri": "https://localhost:8080/",
          "height": 330
        },
        "outputId": "8ba7d3d0-7d73-4f16-8c93-00d96caca6f2"
      },
      "source": [
        "#Loan_Status PLOT\n",
        "plt.figure(figsize=(8,4))\n",
        "colors = ['r','b','g','b','b']\n",
        "ax=train.Loan_Status.value_counts().plot(kind='bar',color= colors)\n",
        "plt.title('Distribution of Loan_Status')\n",
        "plt.ylabel('Count')\n",
        "plt.show()\n",
        "train.Loan_Status.value_counts()"
      ],
      "execution_count": null,
      "outputs": [
        {
          "output_type": "display_data",
          "data": {
            "image/png": "[encoded data removed]",
            "text/plain": [
              "<Figure size 576x288 with 1 Axes>"
            ]
          },
          "metadata": {
            "tags": [],
            "needs_background": "light"
          }
        },
        {
          "output_type": "execute_result",
          "data": {
            "text/plain": [
              "Y    422\n",
              "N    192\n",
              "Name: Loan_Status, dtype: int64"
            ]
          },
          "metadata": {
            "tags": []
          },
          "execution_count": 394
        }
      ]
    },
    {
      "cell_type": "code",
      "metadata": {
        "id": "Yu7eHf3xw5jU",
        "colab": {
          "base_uri": "https://localhost:8080/",
          "height": 204
        },
        "outputId": "e9716f10-c695-4d33-f77a-b1843f5558d4"
      },
      "source": [
        "train.head()"
      ],
      "execution_count": null,
      "outputs": [
        {
          "output_type": "execute_result",
          "data": {
            "text/html": [
              "<div>\n",
              "<style scoped>\n",
              "    .dataframe tbody tr th:only-of-type {\n",
              "        vertical-align: middle;\n",
              "    }\n",
              "\n",
              "    .dataframe tbody tr th {\n",
              "        vertical-align: top;\n",
              "    }\n",
              "\n",
              "    .dataframe thead th {\n",
              "        text-align: right;\n",
              "    }\n",
              "</style>\n",
              "<table border=\"1\" class=\"dataframe\">\n",
              "  <thead>\n",
              "    <tr style=\"text-align: right;\">\n",
              "      <th></th>\n",
              "      <th>Loan_ID</th>\n",
              "      <th>Gender</th>\n",
              "      <th>Married</th>\n",
              "      <th>Dependents</th>\n",
              "      <th>Education</th>\n",
              "      <th>Self_Employed</th>\n",
              "      <th>ApplicantIncome</th>\n",
              "      <th>CoapplicantIncome</th>\n",
              "      <th>LoanAmount</th>\n",
              "      <th>Loan_Amount_Term</th>\n",
              "      <th>Credit_History</th>\n",
              "      <th>Property_Area</th>\n",
              "      <th>Loan_Status</th>\n",
              "    </tr>\n",
              "  </thead>\n",
              "  <tbody>\n",
              "    <tr>\n",
              "      <th>0</th>\n",
              "      <td>LP001002</td>\n",
              "      <td>Male</td>\n",
              "      <td>No</td>\n",
              "      <td>0</td>\n",
              "      <td>Graduate</td>\n",
              "      <td>No</td>\n",
              "      <td>5849</td>\n",
              "      <td>0.0</td>\n",
              "      <td>128.0</td>\n",
              "      <td>360.0</td>\n",
              "      <td>1.0</td>\n",
              "      <td>Urban</td>\n",
              "      <td>Y</td>\n",
              "    </tr>\n",
              "    <tr>\n",
              "      <th>1</th>\n",
              "      <td>LP001003</td>\n",
              "      <td>Male</td>\n",
              "      <td>Yes</td>\n",
              "      <td>1</td>\n",
              "      <td>Graduate</td>\n",
              "      <td>No</td>\n",
              "      <td>4583</td>\n",
              "      <td>1508.0</td>\n",
              "      <td>128.0</td>\n",
              "      <td>360.0</td>\n",
              "      <td>1.0</td>\n",
              "      <td>Rural</td>\n",
              "      <td>N</td>\n",
              "    </tr>\n",
              "    <tr>\n",
              "      <th>2</th>\n",
              "      <td>LP001005</td>\n",
              "      <td>Male</td>\n",
              "      <td>Yes</td>\n",
              "      <td>0</td>\n",
              "      <td>Graduate</td>\n",
              "      <td>Yes</td>\n",
              "      <td>3000</td>\n",
              "      <td>0.0</td>\n",
              "      <td>66.0</td>\n",
              "      <td>360.0</td>\n",
              "      <td>1.0</td>\n",
              "      <td>Urban</td>\n",
              "      <td>Y</td>\n",
              "    </tr>\n",
              "    <tr>\n",
              "      <th>3</th>\n",
              "      <td>LP001006</td>\n",
              "      <td>Male</td>\n",
              "      <td>Yes</td>\n",
              "      <td>0</td>\n",
              "      <td>Not Graduate</td>\n",
              "      <td>No</td>\n",
              "      <td>2583</td>\n",
              "      <td>2358.0</td>\n",
              "      <td>120.0</td>\n",
              "      <td>360.0</td>\n",
              "      <td>1.0</td>\n",
              "      <td>Urban</td>\n",
              "      <td>Y</td>\n",
              "    </tr>\n",
              "    <tr>\n",
              "      <th>4</th>\n",
              "      <td>LP001008</td>\n",
              "      <td>Male</td>\n",
              "      <td>No</td>\n",
              "      <td>0</td>\n",
              "      <td>Graduate</td>\n",
              "      <td>No</td>\n",
              "      <td>6000</td>\n",
              "      <td>0.0</td>\n",
              "      <td>141.0</td>\n",
              "      <td>360.0</td>\n",
              "      <td>1.0</td>\n",
              "      <td>Urban</td>\n",
              "      <td>Y</td>\n",
              "    </tr>\n",
              "  </tbody>\n",
              "</table>\n",
              "</div>"
            ],
            "text/plain": [
              "    Loan_ID Gender Married  ... Credit_History Property_Area Loan_Status\n",
              "0  LP001002   Male      No  ...            1.0         Urban           Y\n",
              "1  LP001003   Male     Yes  ...            1.0         Rural           N\n",
              "2  LP001005   Male     Yes  ...            1.0         Urban           Y\n",
              "3  LP001006   Male     Yes  ...            1.0         Urban           Y\n",
              "4  LP001008   Male      No  ...            1.0         Urban           Y\n",
              "\n",
              "[5 rows x 13 columns]"
            ]
          },
          "metadata": {
            "tags": []
          },
          "execution_count": 395
        }
      ]
    },
    {
      "cell_type": "code",
      "metadata": {
        "id": "v-p_8ubCxEAj",
        "colab": {
          "base_uri": "https://localhost:8080/",
          "height": 204
        },
        "outputId": "89894125-f35c-4216-b0c3-2e514ab8e717"
      },
      "source": [
        "train.Loan_Amount_Term.value_counts()"
      ],
      "execution_count": null,
      "outputs": [
        {
          "output_type": "execute_result",
          "data": {
            "text/plain": [
              "360.0    526\n",
              "180.0     44\n",
              "480.0     15\n",
              "300.0     13\n",
              "84.0       4\n",
              "240.0      4\n",
              "120.0      3\n",
              "36.0       2\n",
              "60.0       2\n",
              "12.0       1\n",
              "Name: Loan_Amount_Term, dtype: int64"
            ]
          },
          "metadata": {
            "tags": []
          },
          "execution_count": 396
        }
      ]
    },
    {
      "cell_type": "code",
      "metadata": {
        "id": "7daisJB1xqpo",
        "colab": {
          "base_uri": "https://localhost:8080/",
          "height": 409
        },
        "outputId": "efa32e06-f84b-4636-f9c6-1201ad778fee"
      },
      "source": [
        "#Loan_Amount_Term PLOT\n",
        "plt.figure(figsize=(10,6))\n",
        "colors = ['r','b','g','b','b']\n",
        "ax=train.Loan_Amount_Term.value_counts().plot(kind='bar',color= colors)\n",
        "plt.title('Distribution of Loan_Amount_Term')\n",
        "plt.ylabel('Count')\n",
        "plt.show()\n"
      ],
      "execution_count": null,
      "outputs": [
        {
          "output_type": "display_data",
          "data": {
            "image/png": "[encoded data removed]",
            "text/plain": [
              "<Figure size 720x432 with 1 Axes>"
            ]
          },
          "metadata": {
            "tags": [],
            "needs_background": "light"
          }
        }
      ]
    },
    {
      "cell_type": "code",
      "metadata": {
        "id": "bAxZKcVTxwr7",
        "colab": {
          "base_uri": "https://localhost:8080/",
          "height": 591
        },
        "outputId": "1fe66f25-654f-42bc-94b6-26cc66b1349b"
      },
      "source": [
        "#pie chart for loan_amount_term\n",
        "plt.figure(figsize=(20,10))\n",
        "values=train.Loan_Amount_Term.value_counts()\n",
        "labels=train.Loan_Amount_Term.value_counts().index\n",
        "plt.pie(values,labels=labels,autopct='%.2f')\n",
        "plt.title('loan_amount_term(%) ', weight='bold')\n",
        "plt.show()"
      ],
      "execution_count": null,
      "outputs": [
        {
          "output_type": "display_data",
          "data": {
            "image/png": "[encoded data removed]",
            "text/plain": [
              "<Figure size 1440x720 with 1 Axes>"
            ]
          },
          "metadata": {
            "tags": []
          }
        }
      ]
    },
    {
      "cell_type": "code",
      "metadata": {
        "id": "xZvlE1zjyI9b",
        "colab": {
          "base_uri": "https://localhost:8080/",
          "height": 369
        },
        "outputId": "2c83734c-a3e9-4a17-d9f5-8feb8bf3dc0c"
      },
      "source": [
        "sns.set_style==('whitegrid');\n",
        "sns.FacetGrid(train,hue='Loan_Status',size=5).map(sns.distplot,'ApplicantIncome').add_legend();\n",
        "plt.show()\n"
      ],
      "execution_count": null,
      "outputs": [
        {
          "output_type": "display_data",
          "data": {
            "image/png": "[encoded data removed]",
            "text/plain": [
              "<Figure size 428.625x360 with 1 Axes>"
            ]
          },
          "metadata": {
            "tags": [],
            "needs_background": "light"
          }
        }
      ]
    },
    {
      "cell_type": "code",
      "metadata": {
        "id": "vgQnangvy5zC",
        "colab": {
          "base_uri": "https://localhost:8080/",
          "height": 386
        },
        "outputId": "f1ce8ce6-261c-4015-a5b5-3848cf927c32"
      },
      "source": [
        "plt.figure(figsize=(15,8))\n",
        "sns.set_style==('whitegrid');\n",
        "sns.FacetGrid(train,hue='Loan_Status',size=5).map(sns.distplot,'CoapplicantIncome').add_legend();\n",
        "plt.show()\n"
      ],
      "execution_count": null,
      "outputs": [
        {
          "output_type": "display_data",
          "data": {
            "text/plain": [
              "<Figure size 1080x576 with 0 Axes>"
            ]
          },
          "metadata": {
            "tags": []
          }
        },
        {
          "output_type": "display_data",
          "data": {
            "image/png": "[encoded data removed]",
            "text/plain": [
              "<Figure size 428.625x360 with 1 Axes>"
            ]
          },
          "metadata": {
            "tags": [],
            "needs_background": "light"
          }
        }
      ]
    },
    {
      "cell_type": "code",
      "metadata": {
        "id": "O-5rAc4pzdxf",
        "colab": {
          "base_uri": "https://localhost:8080/",
          "height": 386
        },
        "outputId": "19d09250-6cce-4b20-a44a-d6196fe95d5f"
      },
      "source": [
        "plt.figure(figsize=(15,8))\n",
        "sns.set_style==('whitegrid');\n",
        "sns.FacetGrid(train,hue='Loan_Status',size=5).map(sns.distplot,'LoanAmount').add_legend();\n",
        "plt.show()\n"
      ],
      "execution_count": null,
      "outputs": [
        {
          "output_type": "display_data",
          "data": {
            "text/plain": [
              "<Figure size 1080x576 with 0 Axes>"
            ]
          },
          "metadata": {
            "tags": []
          }
        },
        {
          "output_type": "display_data",
          "data": {
            "image/png": "[encoded data removed]",
            "text/plain": [
              "<Figure size 428.625x360 with 1 Axes>"
            ]
          },
          "metadata": {
            "tags": [],
            "needs_background": "light"
          }
        }
      ]
    },
    {
      "cell_type": "markdown",
      "metadata": {
        "id": "Gss9V8Fpzpqc"
      },
      "source": [
        "By looking at the pdf plots of LoanAmount,CoapplicantIncome,ApplicantIncome we can see a lot of overlapping."
      ]
    },
    {
      "cell_type": "code",
      "metadata": {
        "id": "t05VjvBzzjgZ",
        "colab": {
          "base_uri": "https://localhost:8080/",
          "height": 386
        },
        "outputId": "2090ec57-e975-46eb-d137-ad6a8b3df20a"
      },
      "source": [
        "plt.figure(figsize=(15,8))\n",
        "sns.set_style==('whitegrid');\n",
        "sns.FacetGrid(train,hue='Loan_Status',size=5).map(sns.scatterplot,'Credit_History','CoapplicantIncome').add_legend();\n",
        "plt.show()\n"
      ],
      "execution_count": null,
      "outputs": [
        {
          "output_type": "display_data",
          "data": {
            "text/plain": [
              "<Figure size 1080x576 with 0 Axes>"
            ]
          },
          "metadata": {
            "tags": []
          }
        },
        {
          "output_type": "display_data",
          "data": {
            "image/png": "[encoded data removed]",
            "text/plain": [
              "<Figure size 428.625x360 with 1 Axes>"
            ]
          },
          "metadata": {
            "tags": [],
            "needs_background": "light"
          }
        }
      ]
    },
    {
      "cell_type": "code",
      "metadata": {
        "id": "rIlEJudl0IVa",
        "colab": {
          "base_uri": "https://localhost:8080/",
          "height": 386
        },
        "outputId": "64118058-f790-4637-ab97-a35b13dcd3fb"
      },
      "source": [
        "plt.figure(figsize=(15,8))\n",
        "sns.set_style==('whitegrid');\n",
        "sns.FacetGrid(train,hue='Loan_Status',size=5).map(sns.scatterplot,'Credit_History','ApplicantIncome').add_legend();\n",
        "plt.show()\n"
      ],
      "execution_count": null,
      "outputs": [
        {
          "output_type": "display_data",
          "data": {
            "text/plain": [
              "<Figure size 1080x576 with 0 Axes>"
            ]
          },
          "metadata": {
            "tags": []
          }
        },
        {
          "output_type": "display_data",
          "data": {
            "image/png": "[encoded data removed]",
            "text/plain": [
              "<Figure size 428.625x360 with 1 Axes>"
            ]
          },
          "metadata": {
            "tags": [],
            "needs_background": "light"
          }
        }
      ]
    },
    {
      "cell_type": "code",
      "metadata": {
        "id": "B2UlsDYt0Lfr",
        "colab": {
          "base_uri": "https://localhost:8080/",
          "height": 386
        },
        "outputId": "232cbfee-759e-4d24-ed35-4221d5fb08c4"
      },
      "source": [
        "plt.figure(figsize=(15,8))\n",
        "sns.set_style==('whitegrid');\n",
        "sns.FacetGrid(train,hue='Loan_Status',size=5).map(sns.scatterplot,'Credit_History','LoanAmount').add_legend();\n",
        "plt.show()\n"
      ],
      "execution_count": null,
      "outputs": [
        {
          "output_type": "display_data",
          "data": {
            "text/plain": [
              "<Figure size 1080x576 with 0 Axes>"
            ]
          },
          "metadata": {
            "tags": []
          }
        },
        {
          "output_type": "display_data",
          "data": {
            "image/png": "[encoded data removed]",
            "text/plain": [
              "<Figure size 428.625x360 with 1 Axes>"
            ]
          },
          "metadata": {
            "tags": [],
            "needs_background": "light"
          }
        }
      ]
    },
    {
      "cell_type": "code",
      "metadata": {
        "id": "-p5M9Vyg0PcF",
        "colab": {
          "base_uri": "https://localhost:8080/",
          "height": 422
        },
        "outputId": "e2d3bcc6-e387-40e7-d996-32942acc092c"
      },
      "source": [
        "\n",
        "plt.figure(figsize = (12,6))\n",
        "sns.countplot(x=train['Loan_Status'], hue = train['Gender'])\n",
        "plt.ylabel(\"Loan_Status for Different Gender\")\n",
        "plt.title(\"Loan_Status vs Gender\",weight = 'bold')"
      ],
      "execution_count": null,
      "outputs": [
        {
          "output_type": "execute_result",
          "data": {
            "text/plain": [
              "Text(0.5, 1.0, 'Loan_Status vs Gender')"
            ]
          },
          "metadata": {
            "tags": []
          },
          "execution_count": 405
        },
        {
          "output_type": "display_data",
          "data": {
            "image/png": "[encoded data removed]",
            "text/plain": [
              "<Figure size 864x432 with 1 Axes>"
            ]
          },
          "metadata": {
            "tags": [],
            "needs_background": "light"
          }
        }
      ]
    },
    {
      "cell_type": "markdown",
      "metadata": {
        "id": "Q4BQFxqm0-C3"
      },
      "source": [
        "Rejection and approval of female applicants are low as compared to male applicants"
      ]
    },
    {
      "cell_type": "code",
      "metadata": {
        "id": "_WVBc6Ch0rOA",
        "colab": {
          "base_uri": "https://localhost:8080/",
          "height": 296
        },
        "outputId": "fda14212-db5f-4013-bb8a-99a037915633"
      },
      "source": [
        "# Scatter plot of ApplicantIncome and LoanAmount\n",
        "train.plot('LoanAmount','ApplicantIncome', kind ='scatter')"
      ],
      "execution_count": null,
      "outputs": [
        {
          "output_type": "execute_result",
          "data": {
            "text/plain": [
              "<matplotlib.axes._subplots.AxesSubplot at 0x7f574c29b4a8>"
            ]
          },
          "metadata": {
            "tags": []
          },
          "execution_count": 406
        },
        {
          "output_type": "display_data",
          "data": {
            "image/png": "[encoded data removed]",
            "text/plain": [
              "<Figure size 432x288 with 1 Axes>"
            ]
          },
          "metadata": {
            "tags": [],
            "needs_background": "light"
          }
        }
      ]
    },
    {
      "cell_type": "markdown",
      "metadata": {
        "id": "xhu5WvwzCRmO"
      },
      "source": [
        "Cat-Cat plots"
      ]
    },
    {
      "cell_type": "code",
      "metadata": {
        "id": "oCi59-1TCE8D",
        "colab": {
          "base_uri": "https://localhost:8080/",
          "height": 102
        },
        "outputId": "6af8fac6-c7a7-476f-a696-3829586f8623"
      },
      "source": [
        "# print the cross-tabulation\n",
        "\n",
        "ct=pd.crosstab(train.Gender,train.Loan_Status,margins=True)\n",
        "print(ct)"
      ],
      "execution_count": null,
      "outputs": [
        {
          "output_type": "stream",
          "text": [
            "Loan_Status    N    Y  All\n",
            "Gender                    \n",
            "Female        37   75  112\n",
            "Male         155  347  502\n",
            "All          192  422  614\n"
          ],
          "name": "stdout"
        }
      ]
    },
    {
      "cell_type": "code",
      "metadata": {
        "id": "cFAMuXq4CfB7",
        "colab": {
          "base_uri": "https://localhost:8080/",
          "height": 322
        },
        "outputId": "2d612007-1004-40a5-ab0b-26d865b5a955"
      },
      "source": [
        "ct.iloc[:-1,:-1].plot(kind = 'bar', stacked = True, color = ['red','blue'], grid = False)"
      ],
      "execution_count": null,
      "outputs": [
        {
          "output_type": "execute_result",
          "data": {
            "text/plain": [
              "<matplotlib.axes._subplots.AxesSubplot at 0x7f574c096fd0>"
            ]
          },
          "metadata": {
            "tags": []
          },
          "execution_count": 408
        },
        {
          "output_type": "display_data",
          "data": {
            "image/png": "[encoded data removed]",
            "text/plain": [
              "<Figure size 432x288 with 1 Axes>"
            ]
          },
          "metadata": {
            "tags": [],
            "needs_background": "light"
          }
        }
      ]
    },
    {
      "cell_type": "code",
      "metadata": {
        "id": "1k7SbpBnCkqA",
        "colab": {
          "base_uri": "https://localhost:8080/",
          "height": 302
        },
        "outputId": "51e54a95-9b64-46f2-9a93-c29082abcba4"
      },
      "source": [
        "ct=pd.crosstab(train.Married,train.Loan_Status,margins=True)\n",
        "ct.iloc[:-1,:-1].plot(kind='bar',stacked=True,color=['red','blue'],grid=False)"
      ],
      "execution_count": null,
      "outputs": [
        {
          "output_type": "execute_result",
          "data": {
            "text/plain": [
              "<matplotlib.axes._subplots.AxesSubplot at 0x7f574c0a2160>"
            ]
          },
          "metadata": {
            "tags": []
          },
          "execution_count": 409
        },
        {
          "output_type": "display_data",
          "data": {
            "image/png": "[encoded data removed]",
            "text/plain": [
              "<Figure size 432x288 with 1 Axes>"
            ]
          },
          "metadata": {
            "tags": [],
            "needs_background": "light"
          }
        }
      ]
    },
    {
      "cell_type": "code",
      "metadata": {
        "id": "cF6QDNopC-u-",
        "colab": {
          "base_uri": "https://localhost:8080/",
          "height": 339
        },
        "outputId": "e4997a50-bd0d-40fe-a97f-7555a4ee22f4"
      },
      "source": [
        "ct=pd.crosstab(train.Education,train.Loan_Status,margins=True)\n",
        "ct.iloc[:-1,:-1].plot(kind='bar',stacked=True,color=['red','blue'],grid=False)\n",
        "plt.show()"
      ],
      "execution_count": null,
      "outputs": [
        {
          "output_type": "display_data",
          "data": {
            "image/png": "[encoded data removed]",
            "text/plain": [
              "<Figure size 432x288 with 1 Axes>"
            ]
          },
          "metadata": {
            "tags": [],
            "needs_background": "light"
          }
        }
      ]
    },
    {
      "cell_type": "code",
      "metadata": {
        "id": "Qio5FliiDDff",
        "colab": {
          "base_uri": "https://localhost:8080/",
          "height": 286
        },
        "outputId": "e18e70a9-0e23-4669-bf21-59dfc6140d70"
      },
      "source": [
        "ct=pd.crosstab(train.Self_Employed,train.Loan_Status,margins=True)\n",
        "ct.iloc[:-1,:-1].plot(kind='bar',stacked=True,color=['red','blue'],grid=False)\n",
        "plt.show()"
      ],
      "execution_count": null,
      "outputs": [
        {
          "output_type": "display_data",
          "data": {
            "image/png": "[encoded data removed]",
            "text/plain": [
              "<Figure size 432x288 with 1 Axes>"
            ]
          },
          "metadata": {
            "tags": [],
            "needs_background": "light"
          }
        }
      ]
    },
    {
      "cell_type": "code",
      "metadata": {
        "id": "FErhRfz4DJbX",
        "colab": {
          "base_uri": "https://localhost:8080/",
          "height": 324
        },
        "outputId": "27e9d387-daae-4640-a2b2-7672726a7bcd"
      },
      "source": [
        "ct=pd.crosstab(train.Property_Area,train.Loan_Status,margins=True)\n",
        "ct.iloc[:-1,:-1].plot(kind='bar',stacked=True,color=['red','blue'],grid=False)\n",
        "plt.show()"
      ],
      "execution_count": null,
      "outputs": [
        {
          "output_type": "display_data",
          "data": {
            "image/png": "[encoded data removed]",
            "text/plain": [
              "<Figure size 432x288 with 1 Axes>"
            ]
          },
          "metadata": {
            "tags": [],
            "needs_background": "light"
          }
        }
      ]
    },
    {
      "cell_type": "code",
      "metadata": {
        "id": "EWB11AMgDPcf",
        "colab": {
          "base_uri": "https://localhost:8080/",
          "height": 286
        },
        "outputId": "9d1d456d-19d6-4c7b-c52a-bc4dffe8316d"
      },
      "source": [
        "ct=pd.crosstab(train.Credit_History,train.Loan_Status,margins=True)\n",
        "ct.iloc[:-1,:-1].plot(kind='bar',stacked=True,color=['red','blue'],grid=False)\n",
        "plt.show()"
      ],
      "execution_count": null,
      "outputs": [
        {
          "output_type": "display_data",
          "data": {
            "image/png": "[encoded data removed]",
            "text/plain": [
              "<Figure size 432x288 with 1 Axes>"
            ]
          },
          "metadata": {
            "tags": [],
            "needs_background": "light"
          }
        }
      ]
    },
    {
      "cell_type": "code",
      "metadata": {
        "id": "lR4f2XA6DVgb",
        "colab": {
          "base_uri": "https://localhost:8080/",
          "height": 204
        },
        "outputId": "2de1ccfc-66d0-4162-ca23-9f9c48b8a8fd"
      },
      "source": [
        "train.head()"
      ],
      "execution_count": null,
      "outputs": [
        {
          "output_type": "execute_result",
          "data": {
            "text/html": [
              "<div>\n",
              "<style scoped>\n",
              "    .dataframe tbody tr th:only-of-type {\n",
              "        vertical-align: middle;\n",
              "    }\n",
              "\n",
              "    .dataframe tbody tr th {\n",
              "        vertical-align: top;\n",
              "    }\n",
              "\n",
              "    .dataframe thead th {\n",
              "        text-align: right;\n",
              "    }\n",
              "</style>\n",
              "<table border=\"1\" class=\"dataframe\">\n",
              "  <thead>\n",
              "    <tr style=\"text-align: right;\">\n",
              "      <th></th>\n",
              "      <th>Loan_ID</th>\n",
              "      <th>Gender</th>\n",
              "      <th>Married</th>\n",
              "      <th>Dependents</th>\n",
              "      <th>Education</th>\n",
              "      <th>Self_Employed</th>\n",
              "      <th>ApplicantIncome</th>\n",
              "      <th>CoapplicantIncome</th>\n",
              "      <th>LoanAmount</th>\n",
              "      <th>Loan_Amount_Term</th>\n",
              "      <th>Credit_History</th>\n",
              "      <th>Property_Area</th>\n",
              "      <th>Loan_Status</th>\n",
              "    </tr>\n",
              "  </thead>\n",
              "  <tbody>\n",
              "    <tr>\n",
              "      <th>0</th>\n",
              "      <td>LP001002</td>\n",
              "      <td>Male</td>\n",
              "      <td>No</td>\n",
              "      <td>0</td>\n",
              "      <td>Graduate</td>\n",
              "      <td>No</td>\n",
              "      <td>5849</td>\n",
              "      <td>0.0</td>\n",
              "      <td>128.0</td>\n",
              "      <td>360.0</td>\n",
              "      <td>1.0</td>\n",
              "      <td>Urban</td>\n",
              "      <td>Y</td>\n",
              "    </tr>\n",
              "    <tr>\n",
              "      <th>1</th>\n",
              "      <td>LP001003</td>\n",
              "      <td>Male</td>\n",
              "      <td>Yes</td>\n",
              "      <td>1</td>\n",
              "      <td>Graduate</td>\n",
              "      <td>No</td>\n",
              "      <td>4583</td>\n",
              "      <td>1508.0</td>\n",
              "      <td>128.0</td>\n",
              "      <td>360.0</td>\n",
              "      <td>1.0</td>\n",
              "      <td>Rural</td>\n",
              "      <td>N</td>\n",
              "    </tr>\n",
              "    <tr>\n",
              "      <th>2</th>\n",
              "      <td>LP001005</td>\n",
              "      <td>Male</td>\n",
              "      <td>Yes</td>\n",
              "      <td>0</td>\n",
              "      <td>Graduate</td>\n",
              "      <td>Yes</td>\n",
              "      <td>3000</td>\n",
              "      <td>0.0</td>\n",
              "      <td>66.0</td>\n",
              "      <td>360.0</td>\n",
              "      <td>1.0</td>\n",
              "      <td>Urban</td>\n",
              "      <td>Y</td>\n",
              "    </tr>\n",
              "    <tr>\n",
              "      <th>3</th>\n",
              "      <td>LP001006</td>\n",
              "      <td>Male</td>\n",
              "      <td>Yes</td>\n",
              "      <td>0</td>\n",
              "      <td>Not Graduate</td>\n",
              "      <td>No</td>\n",
              "      <td>2583</td>\n",
              "      <td>2358.0</td>\n",
              "      <td>120.0</td>\n",
              "      <td>360.0</td>\n",
              "      <td>1.0</td>\n",
              "      <td>Urban</td>\n",
              "      <td>Y</td>\n",
              "    </tr>\n",
              "    <tr>\n",
              "      <th>4</th>\n",
              "      <td>LP001008</td>\n",
              "      <td>Male</td>\n",
              "      <td>No</td>\n",
              "      <td>0</td>\n",
              "      <td>Graduate</td>\n",
              "      <td>No</td>\n",
              "      <td>6000</td>\n",
              "      <td>0.0</td>\n",
              "      <td>141.0</td>\n",
              "      <td>360.0</td>\n",
              "      <td>1.0</td>\n",
              "      <td>Urban</td>\n",
              "      <td>Y</td>\n",
              "    </tr>\n",
              "  </tbody>\n",
              "</table>\n",
              "</div>"
            ],
            "text/plain": [
              "    Loan_ID Gender Married  ... Credit_History Property_Area Loan_Status\n",
              "0  LP001002   Male      No  ...            1.0         Urban           Y\n",
              "1  LP001003   Male     Yes  ...            1.0         Rural           N\n",
              "2  LP001005   Male     Yes  ...            1.0         Urban           Y\n",
              "3  LP001006   Male     Yes  ...            1.0         Urban           Y\n",
              "4  LP001008   Male      No  ...            1.0         Urban           Y\n",
              "\n",
              "[5 rows x 13 columns]"
            ]
          },
          "metadata": {
            "tags": []
          },
          "execution_count": 414
        }
      ]
    },
    {
      "cell_type": "markdown",
      "metadata": {
        "id": "gYG1vwloJz5l"
      },
      "source": [
        "## Getting new Data Columns"
      ]
    },
    {
      "cell_type": "markdown",
      "metadata": {
        "id": "5CoEfrm_J8K0"
      },
      "source": [
        "We have two columns named applicant income and co-applicant income. It may be the case that total income might have a great impact on Loan Status. This is just a guess. It may or may not work. Also It may be the case that EMI would have a greater impact on Loan Status as it combines Loan Amount and Loan Amount Term. So I am just using some common sense to find new variables that can impact. Well this concept in short is known as Feature Engineering. (It’s not as easy as what is explained here….But to make our model better ..we are approaching this way…..)"
      ]
    },
    {
      "cell_type": "code",
      "metadata": {
        "id": "BjMpDPUWKDOC"
      },
      "source": [
        "train['Total_Income']=train.ApplicantIncome+train.CoapplicantIncome"
      ],
      "execution_count": null,
      "outputs": []
    },
    {
      "cell_type": "code",
      "metadata": {
        "id": "7TKNQbOeM8FF",
        "colab": {
          "base_uri": "https://localhost:8080/",
          "height": 297
        },
        "outputId": "a35e402f-4188-4d30-ceb4-02ad7b413cf8"
      },
      "source": [
        "sns.distplot(train.Total_Income)"
      ],
      "execution_count": null,
      "outputs": [
        {
          "output_type": "execute_result",
          "data": {
            "text/plain": [
              "<matplotlib.axes._subplots.AxesSubplot at 0x7f574bfbdc50>"
            ]
          },
          "metadata": {
            "tags": []
          },
          "execution_count": 416
        },
        {
          "output_type": "display_data",
          "data": {
            "image/png": "[encoded data removed]",
            "text/plain": [
              "<Figure size 432x288 with 1 Axes>"
            ]
          },
          "metadata": {
            "tags": [],
            "needs_background": "light"
          }
        }
      ]
    },
    {
      "cell_type": "code",
      "metadata": {
        "id": "kuN5vSneNY-Q",
        "colab": {
          "base_uri": "https://localhost:8080/",
          "height": 297
        },
        "outputId": "bb37c29f-0dc0-4e5a-db16-96c3dcd5da26"
      },
      "source": [
        "train['Total_Income_log']=np.log(train.Total_Income)\n",
        "sns.distplot(train.Total_Income_log)"
      ],
      "execution_count": null,
      "outputs": [
        {
          "output_type": "execute_result",
          "data": {
            "text/plain": [
              "<matplotlib.axes._subplots.AxesSubplot at 0x7f574c4ba208>"
            ]
          },
          "metadata": {
            "tags": []
          },
          "execution_count": 417
        },
        {
          "output_type": "display_data",
          "data": {
            "image/png": "[encoded data removed]",
            "text/plain": [
              "<Figure size 432x288 with 1 Axes>"
            ]
          },
          "metadata": {
            "tags": [],
            "needs_background": "light"
          }
        }
      ]
    },
    {
      "cell_type": "markdown",
      "metadata": {
        "id": "W0qw181KNoL5"
      },
      "source": [
        "Applying the log function removes the skewness of data and makes it normal. As total income is skewed i have applied log of that which makes it normal so that many machine learning algorithms can be applied smoothly."
      ]
    },
    {
      "cell_type": "markdown",
      "metadata": {
        "id": "diqbGn13N5dM"
      },
      "source": [
        "#Adding one more Feature: EMI\n",
        "A = PxRx(1+R)^N\n",
        "\n",
        "B = (1+R)^(N-1)\n",
        "\n",
        "EMI = A/B.\n",
        "\n",
        "ref: https://www.myloancare.in/home-loan-interest-rates/\n",
        "EMI could be a big factor in determining the approval as high emi amount might lower chances of approval.\n"
      ]
    },
    {
      "cell_type": "code",
      "metadata": {
        "id": "c_1rfjTzNnra"
      },
      "source": [
        "train['EMI']=(train.LoanAmount*0.09*(1.09**train.Loan_Amount_Term))/(1.09**(train.Loan_Amount_Term-1))\n"
      ],
      "execution_count": null,
      "outputs": []
    },
    {
      "cell_type": "code",
      "metadata": {
        "id": "DOgLwHs4Dna3"
      },
      "source": [
        "#pd.get_dummies ==> Convert categorical variable into dummy/indicator variables.(OneHot encoding)\n",
        "train.Gender=pd.get_dummies(train.Gender,drop_first=True)\n",
        "train.Married=pd.get_dummies(train.Married,drop_first=True)\n",
        "train.Dependents=pd.get_dummies(train.Dependents,drop_first=True)\n",
        "train.Education=pd.get_dummies(train.Education,drop_first=True)\n",
        "train.Self_Employed=pd.get_dummies(train.Self_Employed,drop_first=True)\n",
        "train.Property_Area=pd.get_dummies(train.Property_Area,drop_first=True)\n",
        "train.Loan_Amount_Term=pd.get_dummies(train.Loan_Amount_Term,drop_first=True)"
      ],
      "execution_count": null,
      "outputs": []
    },
    {
      "cell_type": "code",
      "metadata": {
        "id": "YMDxfDTyEZo-"
      },
      "source": [
        "train.drop(['Loan_ID'],axis=1,inplace=True)"
      ],
      "execution_count": null,
      "outputs": []
    },
    {
      "cell_type": "code",
      "metadata": {
        "id": "OvaxT44DEof3"
      },
      "source": [
        "from sklearn.model_selection import train_test_split\n",
        "X_train,X_test,y_train,y_test = train_test_split(train,train['Loan_Status'],stratify=train['Loan_Status'],test_size = 0.2,random_state = 95)"
      ],
      "execution_count": null,
      "outputs": []
    },
    {
      "cell_type": "code",
      "metadata": {
        "id": "NcrLLluQEybY"
      },
      "source": [
        "from joblib import dump,load\n",
        "\n",
        "dump(X_train, 'more_feature_X_train')\n",
        "dump(X_test, 'more_feature_X_test')\n",
        "dump(y_train, 'more_feature_y_train')\n",
        "dump(y_test, 'more_feature_y_test')"
      ],
      "execution_count": null,
      "outputs": []
    },
    {
      "cell_type": "code",
      "metadata": {
        "id": "2273JCyQFDtA"
      },
      "source": [
        "from sklearn.preprocessing import MinMaxScaler\n",
        "mms=MinMaxScaler(feature_range=(-1,1))"
      ],
      "execution_count": null,
      "outputs": []
    },
    {
      "cell_type": "code",
      "metadata": {
        "id": "pIx178VSFdcU"
      },
      "source": [
        "applicant_income=mms.fit_transform(np.array(X_train.ApplicantIncome).reshape(-1,1))"
      ],
      "execution_count": null,
      "outputs": []
    },
    {
      "cell_type": "code",
      "metadata": {
        "id": "_ir3yFddFtyo"
      },
      "source": [
        "coapplicant_income=mms.fit_transform(np.array(X_train.CoapplicantIncome).reshape(-1,1))\n",
        "loan_amount=mms.fit_transform(np.array(X_train.LoanAmount).reshape(-1,1))\n",
        "\n",
        "emi=mms.fit_transform(np.array(X_train.EMI).reshape(-1,1))\n",
        "total_amount=mms.fit_transform(np.array(X_train.Total_Income).reshape(-1,1))\n",
        "total_amount_log=mms.fit_transform(np.array(X_train.Total_Income_log).reshape(-1,1))\n",
        "\n",
        "applicant_income=mms.fit_transform(np.array(X_train.ApplicantIncome).reshape(-1,1))"
      ],
      "execution_count": null,
      "outputs": []
    },
    {
      "cell_type": "code",
      "metadata": {
        "id": "ebXLfCRgH-F2"
      },
      "source": [
        "applicant_income1=mms.fit_transform(np.array(X_test.ApplicantIncome).reshape(-1,1))\n",
        "coapplicant_income1=mms.fit_transform(np.array(X_test.CoapplicantIncome).reshape(-1,1))\n",
        "loan_amount1=mms.fit_transform(np.array(X_test.LoanAmount).reshape(-1,1))\n",
        "emi1=mms.fit_transform(np.array(X_test.EMI).reshape(-1,1))\n",
        "total_amount1=mms.fit_transform(np.array(X_test.Total_Income).reshape(-1,1))\n",
        "total_amount_log1=mms.fit_transform(np.array(X_test.Total_Income_log).reshape(-1,1))\n",
        "\n"
      ],
      "execution_count": null,
      "outputs": []
    },
    {
      "cell_type": "code",
      "metadata": {
        "id": "YeEMTpRWGO58"
      },
      "source": [
        "## combine all 'one-hot' encoded features as Te.\n",
        "tr =pd.DataFrame(pd.np.column_stack([ applicant_income,coapplicant_income,loan_amount,total_amount,total_amount_log,emi]))\n",
        "\n",
        "## CONCAT both dataframe ### ie Te and X_test(original dataframe)\n",
        "## https://stackoverflow.com/questions/45963799/pandas-concat-resulting-in-nan-rows\n",
        "\n",
        "l3=X_train.values.tolist()\n",
        "l4=tr.values.tolist()\n",
        "for i in range(len(l3)):\n",
        "    l3[i].extend(l4[i])\n",
        "\n",
        "X_train=pd.DataFrame(l3,columns=X_train.columns.tolist()+tr.columns.tolist())\n",
        "X_train.shape"
      ],
      "execution_count": null,
      "outputs": []
    },
    {
      "cell_type": "code",
      "metadata": {
        "id": "Z-HhFWsaGg2I"
      },
      "source": [
        "X_train.head()"
      ],
      "execution_count": null,
      "outputs": []
    },
    {
      "cell_type": "code",
      "metadata": {
        "id": "nrgVYQEkH1bg"
      },
      "source": [
        "# after onehot encoding DONE. 'location','rest_type','cuisines' are redundant features. REMOVE them.\n",
        "\n",
        "X_train =X_train.drop(['ApplicantIncome','CoapplicantIncome','LoanAmount','EMI','Total_Income_log','Total_Income'],axis = 1)\n"
      ],
      "execution_count": null,
      "outputs": []
    },
    {
      "cell_type": "code",
      "metadata": {
        "id": "sbV_vVuCGjZt"
      },
      "source": [
        "## combine all 'one-hot' encoded features as Te.\n",
        "te =pd.DataFrame(pd.np.column_stack([ applicant_income1,coapplicant_income1,loan_amount1,total_amount1,total_amount_log1,emi1]))\n",
        "\n",
        "## CONCAT both dataframe ### ie Te and X_test(original dataframe)\n",
        "## https://stackoverflow.com/questions/45963799/pandas-concat-resulting-in-nan-rows\n",
        "\n",
        "l3=X_test.values.tolist()\n",
        "l4=te.values.tolist()\n",
        "for i in range(len(l3)):\n",
        "    l3[i].extend(l4[i])\n",
        "\n",
        "X_test=pd.DataFrame(l3,columns=X_test.columns.tolist()+te.columns.tolist())\n",
        "X_test =X_test.drop(['ApplicantIncome','CoapplicantIncome','LoanAmount','EMI','Total_Income_log','Total_Income'],axis = 1)\n",
        "X_test.shape"
      ],
      "execution_count": null,
      "outputs": []
    },
    {
      "cell_type": "code",
      "metadata": {
        "id": "OdcR3BwbYM-p"
      },
      "source": [
        "y_train=X_train['Loan_Status']"
      ],
      "execution_count": null,
      "outputs": []
    },
    {
      "cell_type": "code",
      "metadata": {
        "id": "IVBCn4M1IeHN"
      },
      "source": [
        "X_train.drop('Loan_Status',axis=1,inplace=True)"
      ],
      "execution_count": null,
      "outputs": []
    },
    {
      "cell_type": "code",
      "metadata": {
        "id": "OpAN0uu7XZ8X"
      },
      "source": [
        "y_train"
      ],
      "execution_count": null,
      "outputs": []
    },
    {
      "cell_type": "markdown",
      "metadata": {
        "id": "yWJ4K9YOJWL7"
      },
      "source": [
        "#MODELING\n"
      ]
    },
    {
      "cell_type": "code",
      "metadata": {
        "id": "ywzQYZE2Ilhq"
      },
      "source": [
        "from sklearn.linear_model import LogisticRegression\n",
        "from sklearn.model_selection import GridSearchCV,KFold,StratifiedKFold\n",
        "from sklearn import metrics"
      ],
      "execution_count": null,
      "outputs": []
    },
    {
      "cell_type": "code",
      "metadata": {
        "id": "9TDBHjyPSj3J",
        "colab": {
          "base_uri": "https://localhost:8080/",
          "height": 357
        },
        "outputId": "30c4e626-737b-4c73-add0-91f101b1142c"
      },
      "source": [
        "score1=0\n",
        "i=1\n",
        "params={'C':[10**i for i in range(-3,3)]}\n",
        "kf=StratifiedKFold(n_splits=10,shuffle=True,random_state=95)\n",
        "for tr,te in kf.split(X_train,y_train):\n",
        "  print('{} of kfold {}'.format(i,kf.n_splits))\n",
        "  #print(te)\n",
        "  x1,x2=X_train.loc[tr],X_train.loc[te]\n",
        "  y1,y2=y_train.loc[tr],y_train.loc[te]\n",
        "  model2=GridSearchCV(LogisticRegression(random_state=95),param_grid=params,scoring='accuracy')\n",
        "  model2.fit(x1,y1)\n",
        "  pred_test=model2.predict(x2)\n",
        "  score=metrics.accuracy_score(y2,pred_test)\n",
        "  score1+=score\n",
        "  print('accuracy_score',score)\n",
        "  i+=1"
      ],
      "execution_count": null,
      "outputs": [
        {
          "output_type": "stream",
          "text": [
            "1 of kfold 10\n",
            "accuracy_score 0.74\n",
            "2 of kfold 10\n",
            "accuracy_score 0.8163265306122449\n",
            "3 of kfold 10\n",
            "accuracy_score 0.8775510204081632\n",
            "4 of kfold 10\n",
            "accuracy_score 0.7346938775510204\n",
            "5 of kfold 10\n",
            "accuracy_score 0.8571428571428571\n",
            "6 of kfold 10\n",
            "accuracy_score 0.8163265306122449\n",
            "7 of kfold 10\n",
            "accuracy_score 0.7755102040816326\n",
            "8 of kfold 10\n",
            "accuracy_score 0.7959183673469388\n",
            "9 of kfold 10\n",
            "accuracy_score 0.8571428571428571\n",
            "10 of kfold 10\n",
            "accuracy_score 0.8367346938775511\n"
          ],
          "name": "stdout"
        }
      ]
    },
    {
      "cell_type": "markdown",
      "metadata": {
        "id": "-Rto_uAhgztg"
      },
      "source": [
        "#Naive bayes"
      ]
    },
    {
      "cell_type": "code",
      "metadata": {
        "id": "68BIavx0gyhk",
        "colab": {
          "base_uri": "https://localhost:8080/",
          "height": 357
        },
        "outputId": "feac1e4d-12d2-48a5-b79e-21aa32429426"
      },
      "source": [
        "from sklearn.naive_bayes import GaussianNB\n",
        "score2=0\n",
        "i=1\n",
        "params={}\n",
        "kf=StratifiedKFold(n_splits=10,shuffle=True,random_state=95)\n",
        "for tr,te in kf.split(X_train,y_train):\n",
        "  print('{} of kfold {}'.format(i,kf.n_splits))\n",
        "  #print(te)\n",
        "  x1,x2=X_train.loc[tr],X_train.loc[te]\n",
        "  y1,y2=y_train.loc[tr],y_train.loc[te]\n",
        "  model=GridSearchCV(GaussianNB(),param_grid=params,scoring='accuracy')\n",
        "  model.fit(x1,y1)\n",
        "  pred_test=model.predict(x2)\n",
        "  score=metrics.accuracy_score(y2,pred_test)\n",
        "  score2+=score\n",
        "  print('accuracy_score',score)\n",
        "  i+=1"
      ],
      "execution_count": null,
      "outputs": [
        {
          "output_type": "stream",
          "text": [
            "1 of kfold 10\n",
            "accuracy_score 0.72\n",
            "2 of kfold 10\n",
            "accuracy_score 0.8163265306122449\n",
            "3 of kfold 10\n",
            "accuracy_score 0.8775510204081632\n",
            "4 of kfold 10\n",
            "accuracy_score 0.7142857142857143\n",
            "5 of kfold 10\n",
            "accuracy_score 0.8571428571428571\n",
            "6 of kfold 10\n",
            "accuracy_score 0.8367346938775511\n",
            "7 of kfold 10\n",
            "accuracy_score 0.7755102040816326\n",
            "8 of kfold 10\n",
            "accuracy_score 0.7959183673469388\n",
            "9 of kfold 10\n",
            "accuracy_score 0.8571428571428571\n",
            "10 of kfold 10\n",
            "accuracy_score 0.8367346938775511\n"
          ],
          "name": "stdout"
        }
      ]
    },
    {
      "cell_type": "code",
      "metadata": {
        "id": "bFQUoc_3XA_q",
        "colab": {
          "base_uri": "https://localhost:8080/",
          "height": 204
        },
        "outputId": "351940ca-a040-4a4e-8315-8426ab9a519d"
      },
      "source": [
        "test=pd.read_csv('test.csv')\n",
        "test.head()"
      ],
      "execution_count": null,
      "outputs": [
        {
          "output_type": "execute_result",
          "data": {
            "text/html": [
              "<div>\n",
              "<style scoped>\n",
              "    .dataframe tbody tr th:only-of-type {\n",
              "        vertical-align: middle;\n",
              "    }\n",
              "\n",
              "    .dataframe tbody tr th {\n",
              "        vertical-align: top;\n",
              "    }\n",
              "\n",
              "    .dataframe thead th {\n",
              "        text-align: right;\n",
              "    }\n",
              "</style>\n",
              "<table border=\"1\" class=\"dataframe\">\n",
              "  <thead>\n",
              "    <tr style=\"text-align: right;\">\n",
              "      <th></th>\n",
              "      <th>Loan_ID</th>\n",
              "      <th>Gender</th>\n",
              "      <th>Married</th>\n",
              "      <th>Dependents</th>\n",
              "      <th>Education</th>\n",
              "      <th>Self_Employed</th>\n",
              "      <th>ApplicantIncome</th>\n",
              "      <th>CoapplicantIncome</th>\n",
              "      <th>LoanAmount</th>\n",
              "      <th>Loan_Amount_Term</th>\n",
              "      <th>Credit_History</th>\n",
              "      <th>Property_Area</th>\n",
              "    </tr>\n",
              "  </thead>\n",
              "  <tbody>\n",
              "    <tr>\n",
              "      <th>0</th>\n",
              "      <td>LP001015</td>\n",
              "      <td>Male</td>\n",
              "      <td>Yes</td>\n",
              "      <td>0</td>\n",
              "      <td>Graduate</td>\n",
              "      <td>No</td>\n",
              "      <td>5720</td>\n",
              "      <td>0</td>\n",
              "      <td>110.0</td>\n",
              "      <td>360.0</td>\n",
              "      <td>1.0</td>\n",
              "      <td>Urban</td>\n",
              "    </tr>\n",
              "    <tr>\n",
              "      <th>1</th>\n",
              "      <td>LP001022</td>\n",
              "      <td>Male</td>\n",
              "      <td>Yes</td>\n",
              "      <td>1</td>\n",
              "      <td>Graduate</td>\n",
              "      <td>No</td>\n",
              "      <td>3076</td>\n",
              "      <td>1500</td>\n",
              "      <td>126.0</td>\n",
              "      <td>360.0</td>\n",
              "      <td>1.0</td>\n",
              "      <td>Urban</td>\n",
              "    </tr>\n",
              "    <tr>\n",
              "      <th>2</th>\n",
              "      <td>LP001031</td>\n",
              "      <td>Male</td>\n",
              "      <td>Yes</td>\n",
              "      <td>2</td>\n",
              "      <td>Graduate</td>\n",
              "      <td>No</td>\n",
              "      <td>5000</td>\n",
              "      <td>1800</td>\n",
              "      <td>208.0</td>\n",
              "      <td>360.0</td>\n",
              "      <td>1.0</td>\n",
              "      <td>Urban</td>\n",
              "    </tr>\n",
              "    <tr>\n",
              "      <th>3</th>\n",
              "      <td>LP001035</td>\n",
              "      <td>Male</td>\n",
              "      <td>Yes</td>\n",
              "      <td>2</td>\n",
              "      <td>Graduate</td>\n",
              "      <td>No</td>\n",
              "      <td>2340</td>\n",
              "      <td>2546</td>\n",
              "      <td>100.0</td>\n",
              "      <td>360.0</td>\n",
              "      <td>NaN</td>\n",
              "      <td>Urban</td>\n",
              "    </tr>\n",
              "    <tr>\n",
              "      <th>4</th>\n",
              "      <td>LP001051</td>\n",
              "      <td>Male</td>\n",
              "      <td>No</td>\n",
              "      <td>0</td>\n",
              "      <td>Not Graduate</td>\n",
              "      <td>No</td>\n",
              "      <td>3276</td>\n",
              "      <td>0</td>\n",
              "      <td>78.0</td>\n",
              "      <td>360.0</td>\n",
              "      <td>1.0</td>\n",
              "      <td>Urban</td>\n",
              "    </tr>\n",
              "  </tbody>\n",
              "</table>\n",
              "</div>"
            ],
            "text/plain": [
              "    Loan_ID Gender Married  ... Loan_Amount_Term Credit_History Property_Area\n",
              "0  LP001015   Male     Yes  ...            360.0            1.0         Urban\n",
              "1  LP001022   Male     Yes  ...            360.0            1.0         Urban\n",
              "2  LP001031   Male     Yes  ...            360.0            1.0         Urban\n",
              "3  LP001035   Male     Yes  ...            360.0            NaN         Urban\n",
              "4  LP001051   Male      No  ...            360.0            1.0         Urban\n",
              "\n",
              "[5 rows x 12 columns]"
            ]
          },
          "metadata": {
            "tags": []
          },
          "execution_count": 455
        }
      ]
    },
    {
      "cell_type": "code",
      "metadata": {
        "id": "CqJcfAdbaZI3"
      },
      "source": [
        "test.drop('Loan_ID',axis=1,inplace=True)"
      ],
      "execution_count": null,
      "outputs": []
    },
    {
      "cell_type": "code",
      "metadata": {
        "id": "xBUtKFwbas6N",
        "colab": {
          "base_uri": "https://localhost:8080/",
          "height": 221
        },
        "outputId": "1e9e8fae-d9da-4e44-f969-fbae225c3fae"
      },
      "source": [
        "test.isna().sum()"
      ],
      "execution_count": null,
      "outputs": [
        {
          "output_type": "execute_result",
          "data": {
            "text/plain": [
              "Gender               11\n",
              "Married               0\n",
              "Dependents           10\n",
              "Education             0\n",
              "Self_Employed        23\n",
              "ApplicantIncome       0\n",
              "CoapplicantIncome     0\n",
              "LoanAmount            5\n",
              "Loan_Amount_Term      6\n",
              "Credit_History       29\n",
              "Property_Area         0\n",
              "dtype: int64"
            ]
          },
          "metadata": {
            "tags": []
          },
          "execution_count": 457
        }
      ]
    },
    {
      "cell_type": "code",
      "metadata": {
        "id": "b63RroHxbAx5"
      },
      "source": [
        "#Filling missing values\n",
        "test.Married.fillna(value=test.Married.mode()[0],inplace=True)\n",
        "test.Dependents.fillna(value=test.Dependents.mode()[0],inplace=True)\n",
        "test.Self_Employed.fillna(value=test.Self_Employed.mode()[0],inplace=True)\n",
        "test.LoanAmount.fillna(value=test.LoanAmount.median(),inplace=True)\n",
        "test.Loan_Amount_Term.fillna(value=test.Loan_Amount_Term.median(),inplace=True)\n",
        "test.Credit_History.fillna(value=test.Credit_History.mode()[0],inplace=True)\n",
        "#Filling missing values\n",
        "test.Gender.fillna(value=test.Gender.mode()[0],inplace=True)\n",
        "#pd.get_dummies ==> Convert categorical variable into dummy/indicator variables.(OneHot encoding)\n",
        "test.Gender=pd.get_dummies(test.Gender,drop_first=True)\n",
        "test.Married=pd.get_dummies(test.Married,drop_first=True)\n",
        "test.Dependents=pd.get_dummies(test.Dependents,drop_first=True)\n",
        "test.Education=pd.get_dummies(test.Education,drop_first=True)\n",
        "test.Self_Employed=pd.get_dummies(test.Self_Employed,drop_first=True)\n",
        "test.Property_Area=pd.get_dummies(test.Property_Area,drop_first=True)\n",
        "test.Loan_Amount_Term=pd.get_dummies(test.Loan_Amount_Term,drop_first=True)"
      ],
      "execution_count": null,
      "outputs": []
    },
    {
      "cell_type": "code",
      "metadata": {
        "id": "0utYIpzAZKhC"
      },
      "source": [
        "test['EMI']=(test.LoanAmount*0.09*(1.09**test.Loan_Amount_Term))/(1.09**(test.Loan_Amount_Term-1))\n",
        "test['Total_Income']=test.ApplicantIncome+test.CoapplicantIncome\n",
        "test['Total_Income_log']=np.log(test.Total_Income)"
      ],
      "execution_count": null,
      "outputs": []
    },
    {
      "cell_type": "code",
      "metadata": {
        "id": "3knCjxMdbCUt"
      },
      "source": [
        "coapplicant_income=mms.fit_transform(np.array(test.CoapplicantIncome).reshape(-1,1))\n",
        "loan_amount=mms.fit_transform(np.array(test.LoanAmount).reshape(-1,1))\n",
        "\n",
        "emi=mms.fit_transform(np.array(test.EMI).reshape(-1,1))\n",
        "total_amount=mms.fit_transform(np.array(test.Total_Income).reshape(-1,1))\n",
        "total_amount_log=mms.fit_transform(np.array(test.Total_Income_log).reshape(-1,1))\n",
        "\n",
        "applicant_income=mms.fit_transform(np.array(test.ApplicantIncome).reshape(-1,1))"
      ],
      "execution_count": null,
      "outputs": []
    },
    {
      "cell_type": "code",
      "metadata": {
        "id": "YgqZm2wieKTi",
        "colab": {
          "base_uri": "https://localhost:8080/",
          "height": 34
        },
        "outputId": "9b694a44-3758-4829-e635-c9959d184452"
      },
      "source": [
        "## combine all 'one-hot' encoded features as Te.\n",
        "tr =pd.DataFrame(pd.np.column_stack([ applicant_income,coapplicant_income,loan_amount,total_amount,total_amount_log,emi]))\n",
        "\n",
        "## CONCAT both dataframe ### ie Te and X_test(original dataframe)\n",
        "## https://stackoverflow.com/questions/45963799/pandas-concat-resulting-in-nan-rows\n",
        "\n",
        "l3=test.values.tolist()\n",
        "l4=tr.values.tolist()\n",
        "for i in range(len(l3)):\n",
        "    l3[i].extend(l4[i])\n",
        "\n",
        "test=pd.DataFrame(l3,columns=test.columns.tolist()+tr.columns.tolist())\n",
        "test.shape"
      ],
      "execution_count": null,
      "outputs": [
        {
          "output_type": "execute_result",
          "data": {
            "text/plain": [
              "(367, 20)"
            ]
          },
          "metadata": {
            "tags": []
          },
          "execution_count": 474
        }
      ]
    },
    {
      "cell_type": "code",
      "metadata": {
        "id": "f17kEwUVeYad"
      },
      "source": [
        "test =test.drop(['ApplicantIncome','CoapplicantIncome','LoanAmount','EMI','Total_Income_log','Total_Income'],axis = 1)"
      ],
      "execution_count": null,
      "outputs": []
    },
    {
      "cell_type": "code",
      "metadata": {
        "id": "jXKBcFQhecHU",
        "colab": {
          "base_uri": "https://localhost:8080/",
          "height": 204
        },
        "outputId": "90a5dc08-a8d3-4e25-8eba-9937715d5935"
      },
      "source": [
        "test.head()"
      ],
      "execution_count": null,
      "outputs": [
        {
          "output_type": "execute_result",
          "data": {
            "text/html": [
              "<div>\n",
              "<style scoped>\n",
              "    .dataframe tbody tr th:only-of-type {\n",
              "        vertical-align: middle;\n",
              "    }\n",
              "\n",
              "    .dataframe tbody tr th {\n",
              "        vertical-align: top;\n",
              "    }\n",
              "\n",
              "    .dataframe thead th {\n",
              "        text-align: right;\n",
              "    }\n",
              "</style>\n",
              "<table border=\"1\" class=\"dataframe\">\n",
              "  <thead>\n",
              "    <tr style=\"text-align: right;\">\n",
              "      <th></th>\n",
              "      <th>Gender</th>\n",
              "      <th>Married</th>\n",
              "      <th>Dependents</th>\n",
              "      <th>Education</th>\n",
              "      <th>Self_Employed</th>\n",
              "      <th>Loan_Amount_Term</th>\n",
              "      <th>Credit_History</th>\n",
              "      <th>Property_Area</th>\n",
              "      <th>0</th>\n",
              "      <th>1</th>\n",
              "      <th>2</th>\n",
              "      <th>3</th>\n",
              "      <th>4</th>\n",
              "      <th>5</th>\n",
              "    </tr>\n",
              "  </thead>\n",
              "  <tbody>\n",
              "    <tr>\n",
              "      <th>0</th>\n",
              "      <td>1.0</td>\n",
              "      <td>1.0</td>\n",
              "      <td>0.0</td>\n",
              "      <td>0.0</td>\n",
              "      <td>0.0</td>\n",
              "      <td>0.0</td>\n",
              "      <td>1.0</td>\n",
              "      <td>0.0</td>\n",
              "      <td>-0.842270</td>\n",
              "      <td>-1.000000</td>\n",
              "      <td>-0.685824</td>\n",
              "      <td>-0.888087</td>\n",
              "      <td>-0.366088</td>\n",
              "      <td>-1.0</td>\n",
              "    </tr>\n",
              "    <tr>\n",
              "      <th>1</th>\n",
              "      <td>1.0</td>\n",
              "      <td>1.0</td>\n",
              "      <td>1.0</td>\n",
              "      <td>0.0</td>\n",
              "      <td>0.0</td>\n",
              "      <td>0.0</td>\n",
              "      <td>1.0</td>\n",
              "      <td>0.0</td>\n",
              "      <td>-0.915179</td>\n",
              "      <td>-0.875000</td>\n",
              "      <td>-0.624521</td>\n",
              "      <td>-0.920417</td>\n",
              "      <td>-0.486101</td>\n",
              "      <td>-1.0</td>\n",
              "    </tr>\n",
              "    <tr>\n",
              "      <th>2</th>\n",
              "      <td>1.0</td>\n",
              "      <td>1.0</td>\n",
              "      <td>0.0</td>\n",
              "      <td>0.0</td>\n",
              "      <td>0.0</td>\n",
              "      <td>0.0</td>\n",
              "      <td>1.0</td>\n",
              "      <td>0.0</td>\n",
              "      <td>-0.862124</td>\n",
              "      <td>-0.850000</td>\n",
              "      <td>-0.310345</td>\n",
              "      <td>-0.857565</td>\n",
              "      <td>-0.273069</td>\n",
              "      <td>-1.0</td>\n",
              "    </tr>\n",
              "    <tr>\n",
              "      <th>3</th>\n",
              "      <td>1.0</td>\n",
              "      <td>1.0</td>\n",
              "      <td>0.0</td>\n",
              "      <td>0.0</td>\n",
              "      <td>0.0</td>\n",
              "      <td>0.0</td>\n",
              "      <td>1.0</td>\n",
              "      <td>0.0</td>\n",
              "      <td>-0.935474</td>\n",
              "      <td>-0.787833</td>\n",
              "      <td>-0.724138</td>\n",
              "      <td>-0.911656</td>\n",
              "      <td>-0.450847</td>\n",
              "      <td>-1.0</td>\n",
              "    </tr>\n",
              "    <tr>\n",
              "      <th>4</th>\n",
              "      <td>1.0</td>\n",
              "      <td>0.0</td>\n",
              "      <td>0.0</td>\n",
              "      <td>1.0</td>\n",
              "      <td>0.0</td>\n",
              "      <td>0.0</td>\n",
              "      <td>1.0</td>\n",
              "      <td>0.0</td>\n",
              "      <td>-0.909664</td>\n",
              "      <td>-1.000000</td>\n",
              "      <td>-0.808429</td>\n",
              "      <td>-0.957156</td>\n",
              "      <td>-0.665843</td>\n",
              "      <td>-1.0</td>\n",
              "    </tr>\n",
              "  </tbody>\n",
              "</table>\n",
              "</div>"
            ],
            "text/plain": [
              "   Gender  Married  Dependents  Education  ...         2         3         4    5\n",
              "0     1.0      1.0         0.0        0.0  ... -0.685824 -0.888087 -0.366088 -1.0\n",
              "1     1.0      1.0         1.0        0.0  ... -0.624521 -0.920417 -0.486101 -1.0\n",
              "2     1.0      1.0         0.0        0.0  ... -0.310345 -0.857565 -0.273069 -1.0\n",
              "3     1.0      1.0         0.0        0.0  ... -0.724138 -0.911656 -0.450847 -1.0\n",
              "4     1.0      0.0         0.0        1.0  ... -0.808429 -0.957156 -0.665843 -1.0\n",
              "\n",
              "[5 rows x 14 columns]"
            ]
          },
          "metadata": {
            "tags": []
          },
          "execution_count": 476
        }
      ]
    },
    {
      "cell_type": "code",
      "metadata": {
        "id": "ohzKZP28aAxq",
        "colab": {
          "base_uri": "https://localhost:8080/",
          "height": 34
        },
        "outputId": "6aeece95-0ef4-4496-b855-aac7322d538e"
      },
      "source": [
        "pred_test_sub=model.predict(test)\n",
        "pred_test_prob=model.predict_proba(test)[:,1]\n",
        "print('average accuracy',score1/10)"
      ],
      "execution_count": null,
      "outputs": [
        {
          "output_type": "stream",
          "text": [
            "average accuracy 0.810734693877551\n"
          ],
          "name": "stdout"
        }
      ]
    },
    {
      "cell_type": "code",
      "metadata": {
        "id": "WtLkQGqQiPd4",
        "colab": {
          "base_uri": "https://localhost:8080/",
          "height": 34
        },
        "outputId": "1d77d6e2-be21-4343-806d-ded6b3a1f41d"
      },
      "source": [
        "pred_test_sub2=model2.predict(test)\n",
        "pred_test_prob2=model2.predict_proba(test)[:,1]\n",
        "print('average accuracy',score2/10)"
      ],
      "execution_count": null,
      "outputs": [
        {
          "output_type": "stream",
          "text": [
            "average accuracy 0.808734693877551\n"
          ],
          "name": "stdout"
        }
      ]
    },
    {
      "cell_type": "code",
      "metadata": {
        "id": "N_9EWYDKaVSo",
        "colab": {
          "base_uri": "https://localhost:8080/",
          "height": 510
        },
        "outputId": "346ab0e1-9be4-4799-e10b-d248227cb7e8"
      },
      "source": [
        "pred_test_sub"
      ],
      "execution_count": null,
      "outputs": [
        {
          "output_type": "execute_result",
          "data": {
            "text/plain": [
              "array(['Y', 'Y', 'Y', 'Y', 'Y', 'Y', 'Y', 'N', 'Y', 'Y', 'Y', 'Y', 'Y',\n",
              "       'N', 'Y', 'Y', 'Y', 'Y', 'Y', 'Y', 'Y', 'Y', 'Y', 'Y', 'Y', 'N',\n",
              "       'Y', 'Y', 'Y', 'Y', 'Y', 'Y', 'Y', 'Y', 'Y', 'N', 'Y', 'Y', 'Y',\n",
              "       'Y', 'Y', 'Y', 'Y', 'Y', 'Y', 'Y', 'Y', 'Y', 'Y', 'Y', 'Y', 'Y',\n",
              "       'Y', 'Y', 'Y', 'N', 'Y', 'Y', 'N', 'Y', 'Y', 'Y', 'Y', 'N', 'Y',\n",
              "       'Y', 'N', 'N', 'Y', 'N', 'Y', 'Y', 'Y', 'Y', 'Y', 'Y', 'Y', 'Y',\n",
              "       'Y', 'Y', 'N', 'Y', 'N', 'Y', 'N', 'Y', 'Y', 'Y', 'Y', 'Y', 'Y',\n",
              "       'Y', 'Y', 'Y', 'N', 'Y', 'Y', 'Y', 'Y', 'Y', 'Y', 'N', 'Y', 'Y',\n",
              "       'Y', 'Y', 'N', 'Y', 'Y', 'Y', 'Y', 'Y', 'Y', 'Y', 'Y', 'Y', 'Y',\n",
              "       'N', 'N', 'N', 'Y', 'Y', 'Y', 'N', 'N', 'Y', 'N', 'Y', 'Y', 'Y',\n",
              "       'Y', 'Y', 'Y', 'Y', 'Y', 'Y', 'Y', 'Y', 'Y', 'Y', 'N', 'Y', 'N',\n",
              "       'Y', 'N', 'Y', 'Y', 'N', 'Y', 'Y', 'Y', 'Y', 'Y', 'N', 'Y', 'Y',\n",
              "       'Y', 'Y', 'Y', 'Y', 'Y', 'N', 'Y', 'Y', 'Y', 'N', 'N', 'Y', 'N',\n",
              "       'Y', 'Y', 'Y', 'Y', 'N', 'N', 'Y', 'Y', 'Y', 'Y', 'Y', 'Y', 'Y',\n",
              "       'Y', 'Y', 'Y', 'Y', 'Y', 'Y', 'Y', 'Y', 'Y', 'Y', 'N', 'N', 'Y',\n",
              "       'Y', 'N', 'Y', 'N', 'Y', 'Y', 'Y', 'Y', 'Y', 'Y', 'Y', 'Y', 'Y',\n",
              "       'Y', 'Y', 'Y', 'N', 'Y', 'Y', 'Y', 'Y', 'Y', 'Y', 'Y', 'Y', 'Y',\n",
              "       'Y', 'Y', 'Y', 'N', 'Y', 'Y', 'Y', 'Y', 'N', 'Y', 'Y', 'Y', 'Y',\n",
              "       'Y', 'N', 'N', 'Y', 'Y', 'Y', 'Y', 'N', 'Y', 'N', 'Y', 'N', 'Y',\n",
              "       'Y', 'Y', 'Y', 'N', 'Y', 'Y', 'Y', 'Y', 'N', 'Y', 'Y', 'Y', 'Y',\n",
              "       'Y', 'Y', 'Y', 'Y', 'Y', 'Y', 'N', 'Y', 'N', 'Y', 'Y', 'Y', 'Y',\n",
              "       'N', 'N', 'Y', 'Y', 'Y', 'N', 'Y', 'Y', 'Y', 'Y', 'Y', 'Y', 'Y',\n",
              "       'Y', 'Y', 'Y', 'Y', 'Y', 'Y', 'Y', 'N', 'Y', 'Y', 'Y', 'Y', 'Y',\n",
              "       'Y', 'Y', 'N', 'Y', 'Y', 'Y', 'Y', 'Y', 'Y', 'Y', 'Y', 'Y', 'N',\n",
              "       'Y', 'Y', 'Y', 'Y', 'Y', 'N', 'Y', 'Y', 'Y', 'Y', 'Y', 'Y', 'Y',\n",
              "       'N', 'Y', 'Y', 'Y', 'Y', 'Y', 'Y', 'Y', 'Y', 'Y', 'Y', 'Y', 'Y',\n",
              "       'Y', 'N', 'Y', 'Y', 'Y', 'Y', 'Y', 'Y', 'N', 'Y', 'Y', 'Y', 'Y',\n",
              "       'Y', 'Y', 'Y', 'N', 'Y', 'Y', 'Y', 'Y', 'Y', 'Y', 'Y', 'Y', 'Y',\n",
              "       'Y', 'Y', 'Y'], dtype=object)"
            ]
          },
          "metadata": {
            "tags": []
          },
          "execution_count": 478
        }
      ]
    },
    {
      "cell_type": "code",
      "metadata": {
        "id": "ScIoB77Gbwxt"
      },
      "source": [
        "submission=pd.read_csv('test.csv')\n"
      ],
      "execution_count": null,
      "outputs": []
    },
    {
      "cell_type": "code",
      "metadata": {
        "id": "k5QMs4RNcG-m"
      },
      "source": [
        "submission['Loan_Status']=pred_test_sub"
      ],
      "execution_count": null,
      "outputs": []
    },
    {
      "cell_type": "code",
      "metadata": {
        "id": "mOwOUWAWcPOM"
      },
      "source": [
        "subs=submission[['Loan_ID','Loan_Status']]"
      ],
      "execution_count": null,
      "outputs": []
    },
    {
      "cell_type": "code",
      "metadata": {
        "id": "3-c0wxPlcWm6",
        "colab": {
          "base_uri": "https://localhost:8080/",
          "height": 204
        },
        "outputId": "dfe1b49c-5a01-46dc-9618-da4a70bb728e"
      },
      "source": [
        "subs.head()"
      ],
      "execution_count": null,
      "outputs": [
        {
          "output_type": "execute_result",
          "data": {
            "text/html": [
              "<div>\n",
              "<style scoped>\n",
              "    .dataframe tbody tr th:only-of-type {\n",
              "        vertical-align: middle;\n",
              "    }\n",
              "\n",
              "    .dataframe tbody tr th {\n",
              "        vertical-align: top;\n",
              "    }\n",
              "\n",
              "    .dataframe thead th {\n",
              "        text-align: right;\n",
              "    }\n",
              "</style>\n",
              "<table border=\"1\" class=\"dataframe\">\n",
              "  <thead>\n",
              "    <tr style=\"text-align: right;\">\n",
              "      <th></th>\n",
              "      <th>Loan_ID</th>\n",
              "      <th>Loan_Status</th>\n",
              "    </tr>\n",
              "  </thead>\n",
              "  <tbody>\n",
              "    <tr>\n",
              "      <th>0</th>\n",
              "      <td>LP001015</td>\n",
              "      <td>Y</td>\n",
              "    </tr>\n",
              "    <tr>\n",
              "      <th>1</th>\n",
              "      <td>LP001022</td>\n",
              "      <td>Y</td>\n",
              "    </tr>\n",
              "    <tr>\n",
              "      <th>2</th>\n",
              "      <td>LP001031</td>\n",
              "      <td>Y</td>\n",
              "    </tr>\n",
              "    <tr>\n",
              "      <th>3</th>\n",
              "      <td>LP001035</td>\n",
              "      <td>Y</td>\n",
              "    </tr>\n",
              "    <tr>\n",
              "      <th>4</th>\n",
              "      <td>LP001051</td>\n",
              "      <td>Y</td>\n",
              "    </tr>\n",
              "  </tbody>\n",
              "</table>\n",
              "</div>"
            ],
            "text/plain": [
              "    Loan_ID Loan_Status\n",
              "0  LP001015           Y\n",
              "1  LP001022           Y\n",
              "2  LP001031           Y\n",
              "3  LP001035           Y\n",
              "4  LP001051           Y"
            ]
          },
          "metadata": {
            "tags": []
          },
          "execution_count": 482
        }
      ]
    },
    {
      "cell_type": "code",
      "metadata": {
        "id": "Pn9BOX9McXt4"
      },
      "source": [
        "subs.to_csv('sub_loan.csv',index=False)"
      ],
      "execution_count": null,
      "outputs": []
    },
    {
      "cell_type": "code",
      "metadata": {
        "id": "xMpIewb8ihbf"
      },
      "source": [
        "submission2=pd.read_csv('test.csv')\n",
        "submission2['Loan_Status']=pred_test_sub"
      ],
      "execution_count": null,
      "outputs": []
    },
    {
      "cell_type": "code",
      "metadata": {
        "id": "4kki_-4ffymm"
      },
      "source": [
        "subs2=submission2[['Loan_ID','Loan_Status']]"
      ],
      "execution_count": null,
      "outputs": []
    },
    {
      "cell_type": "code",
      "metadata": {
        "id": "O_EwoFLBirrx"
      },
      "source": [
        "subs2.to_csv('sub_loan2.csv',index=False)"
      ],
      "execution_count": null,
      "outputs": []
    },
    {
      "cell_type": "code",
      "metadata": {
        "id": "4sk35ArTiuJy"
      },
      "source": [
        ""
      ],
      "execution_count": null,
      "outputs": []
    }
  ]
}